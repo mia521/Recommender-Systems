{
 "cells": [
  {
   "cell_type": "markdown",
   "metadata": {},
   "source": [
    "# Homework 2"
   ]
  },
  {
   "cell_type": "code",
   "execution_count": 1,
   "metadata": {},
   "outputs": [],
   "source": [
    "from warnings import filterwarnings\n",
    "filterwarnings('ignore')"
   ]
  },
  {
   "cell_type": "markdown",
   "metadata": {},
   "source": [
    "## Question 1"
   ]
  },
  {
   "cell_type": "markdown",
   "metadata": {},
   "source": [
    "#### Download and parse the 5year.arff file."
   ]
  },
  {
   "cell_type": "code",
   "execution_count": 2,
   "metadata": {},
   "outputs": [],
   "source": [
    "f = open(\"data/5year.arff\", 'r')\n",
    "    \n",
    "while not '@data' in f.readline():\n",
    "    pass\n",
    "\n",
    "dataset = []\n",
    "for l in f:\n",
    "    if '?' in l: # Missing entry\n",
    "        continue\n",
    "    l = l.split(',')\n",
    "    values = [1] + [float(x) for x in l]\n",
    "    values[-1] = values[-1] > 0 # Convert to bool\n",
    "    dataset.append(values)"
   ]
  },
  {
   "cell_type": "markdown",
   "metadata": {},
   "source": [
    "#### Train a logistic regressor with regularization coefficient C = 1.0. Report the accuracy and Balanced Error Rate (BER) of your classifier."
   ]
  },
  {
   "cell_type": "code",
   "execution_count": 3,
   "metadata": {},
   "outputs": [
    {
     "name": "stdout",
     "output_type": "stream",
     "text": [
      "Accuracy = 0.9666776641372484\n",
      "Balanced error rate = 0.48090427704028005\n"
     ]
    }
   ],
   "source": [
    "X = [values[:-1] for values in dataset]\n",
    "y = [values[-1] for values in dataset]\n",
    "from sklearn import linear_model\n",
    "model = linear_model.LogisticRegression(C = 1)\n",
    "model.fit(X,y)\n",
    "\n",
    "predictions = model.predict(X)\n",
    "\n",
    "# accuracy\n",
    "correctPredictions = predictions == y\n",
    "accuracy = sum(correctPredictions) / len(correctPredictions)\n",
    "print(\"Accuracy = \" + str(accuracy))\n",
    "\n",
    "# BER\n",
    "def BER(p, t):\n",
    "    TP=sum([(a and b) for (a,b) in zip(p, t)])\n",
    "    FP=sum([(a and not b) for (a,b) in zip(p, t)])\n",
    "    TN=sum([(not a and not b) for (a,b) in zip(p, t)])\n",
    "    FN=sum([(not a and b) for (a,b) in zip(p, t)])\n",
    "    TPR = TP / (TP + FN)\n",
    "    TNR = TN / (TN + FP)\n",
    "    BalancedErrorRate = 1 - 1/2 * (TPR + TNR)\n",
    "    return(BalancedErrorRate)\n",
    "\n",
    "print(\"Balanced error rate = \" + str(BER(predictions, y)))"
   ]
  },
  {
   "cell_type": "markdown",
   "metadata": {},
   "source": [
    "## Question 3"
   ]
  },
  {
   "cell_type": "markdown",
   "metadata": {},
   "source": [
    "#### Shuffle the data, and split it into training, validation, and test splits, with a 50/25/25% ratio."
   ]
  },
  {
   "cell_type": "code",
   "execution_count": 4,
   "metadata": {},
   "outputs": [],
   "source": [
    "import random\n",
    "random.seed(1996)\n",
    "random.shuffle(dataset)\n",
    "\n",
    "X = [values[:-1] for values in dataset]\n",
    "y = [values[-1] for values in dataset]\n",
    "\n",
    "N = len(X)\n",
    "X_train = X[:N//2]\n",
    "X_valid = X[N//2:3*N//4]\n",
    "X_test = X[3*N//4:]\n",
    "y_train = y[:N//2]\n",
    "y_valid = y[N//2:3*N//4]\n",
    "y_test = y[3*N//4:]"
   ]
  },
  {
   "cell_type": "markdown",
   "metadata": {},
   "source": [
    "#### Using the class weight=’balanced’ option, and training on the training set, report the training/validation/test accuracy and BER."
   ]
  },
  {
   "cell_type": "code",
   "execution_count": 5,
   "metadata": {},
   "outputs": [
    {
     "name": "stdout",
     "output_type": "stream",
     "text": [
      "Train accuracy = 0.7273927392739274    Train BER = 0.2594404150427174\n",
      "Valid accuracy = 0.7150395778364116    Valid BER = 0.2390644181688958\n",
      "Test accuracy = 0.741424802110818    Test BER = 0.23727984344422703\n"
     ]
    }
   ],
   "source": [
    "train_a = []\n",
    "valid_a = []\n",
    "test_a = []\n",
    "train_BER = []\n",
    "valid_BER = []\n",
    "test_BER = []\n",
    "\n",
    "def model(n):\n",
    "\n",
    "    model = linear_model.LogisticRegression(C=n, class_weight='balanced')\n",
    "    model.fit(X_train,y_train)\n",
    "    \n",
    "    train_predictions = model.predict(X_train)\n",
    "    valid_predictions = model.predict(X_valid)\n",
    "    test_predictions = model.predict(X_test)\n",
    "    train_correct = train_predictions == y_train\n",
    "    valid_correct = valid_predictions == y_valid\n",
    "    test_correct = test_predictions == y_test\n",
    "\n",
    "    train_accuracy = sum(train_correct) / len(train_correct)\n",
    "    valid_accuracy = sum(valid_correct) / len(valid_correct)\n",
    "    test_accuracy = sum(test_correct) / len(test_correct)\n",
    "    \n",
    "    train_a.append(train_accuracy)\n",
    "    valid_a.append(valid_accuracy)\n",
    "    test_a.append(test_accuracy)\n",
    "    train_BER.append(BER(train_predictions, y_train))\n",
    "    valid_BER.append(BER(valid_predictions, y_valid))\n",
    "    test_BER.append(BER(test_predictions, y_test))\n",
    "    \n",
    "model(1)\n",
    "print(\"Train accuracy = \" + str(train_a[0]), \"   Train BER = \" + str(train_BER[0]))\n",
    "print(\"Valid accuracy = \" + str(valid_a[0]), \"   Valid BER = \" + str(valid_BER[0]))\n",
    "print(\"Test accuracy = \" + str(test_a[0]), \"   Test BER = \" + str(test_BER[0]))"
   ]
  },
  {
   "cell_type": "markdown",
   "metadata": {},
   "source": [
    "## Question 4"
   ]
  },
  {
   "cell_type": "markdown",
   "metadata": {},
   "source": [
    "#### Implement a complete regularization pipeline with the balanced classifier. Consider values of C in the range {10−4,10−3,...,103,104}. Report (or plot) the train, validation, and test BER for each value of C."
   ]
  },
  {
   "cell_type": "code",
   "execution_count": 6,
   "metadata": {},
   "outputs": [
    {
     "data": {
      "text/html": [
       "<div>\n",
       "<style scoped>\n",
       "    .dataframe tbody tr th:only-of-type {\n",
       "        vertical-align: middle;\n",
       "    }\n",
       "\n",
       "    .dataframe tbody tr th {\n",
       "        vertical-align: top;\n",
       "    }\n",
       "\n",
       "    .dataframe thead th {\n",
       "        text-align: right;\n",
       "    }\n",
       "</style>\n",
       "<table border=\"1\" class=\"dataframe\">\n",
       "  <thead>\n",
       "    <tr style=\"text-align: right;\">\n",
       "      <th></th>\n",
       "      <th>C=10**n</th>\n",
       "      <th>train BER</th>\n",
       "      <th>validation BER</th>\n",
       "      <th>test BER</th>\n",
       "    </tr>\n",
       "  </thead>\n",
       "  <tbody>\n",
       "    <tr>\n",
       "      <td>0</td>\n",
       "      <td>-4</td>\n",
       "      <td>0.267790</td>\n",
       "      <td>0.250598</td>\n",
       "      <td>0.235176</td>\n",
       "    </tr>\n",
       "    <tr>\n",
       "      <td>1</td>\n",
       "      <td>-3</td>\n",
       "      <td>0.292814</td>\n",
       "      <td>0.257382</td>\n",
       "      <td>0.241341</td>\n",
       "    </tr>\n",
       "    <tr>\n",
       "      <td>2</td>\n",
       "      <td>-2</td>\n",
       "      <td>0.285632</td>\n",
       "      <td>0.247206</td>\n",
       "      <td>0.228327</td>\n",
       "    </tr>\n",
       "    <tr>\n",
       "      <td>3</td>\n",
       "      <td>-1</td>\n",
       "      <td>0.289052</td>\n",
       "      <td>0.251276</td>\n",
       "      <td>0.236546</td>\n",
       "    </tr>\n",
       "    <tr>\n",
       "      <td>4</td>\n",
       "      <td>0</td>\n",
       "      <td>0.259440</td>\n",
       "      <td>0.239064</td>\n",
       "      <td>0.237280</td>\n",
       "    </tr>\n",
       "    <tr>\n",
       "      <td>5</td>\n",
       "      <td>1</td>\n",
       "      <td>0.246928</td>\n",
       "      <td>0.233637</td>\n",
       "      <td>0.237280</td>\n",
       "    </tr>\n",
       "    <tr>\n",
       "      <td>6</td>\n",
       "      <td>2</td>\n",
       "      <td>0.188873</td>\n",
       "      <td>0.212606</td>\n",
       "      <td>0.225685</td>\n",
       "    </tr>\n",
       "    <tr>\n",
       "      <td>7</td>\n",
       "      <td>3</td>\n",
       "      <td>0.270242</td>\n",
       "      <td>0.235672</td>\n",
       "      <td>0.217368</td>\n",
       "    </tr>\n",
       "    <tr>\n",
       "      <td>8</td>\n",
       "      <td>4</td>\n",
       "      <td>0.279476</td>\n",
       "      <td>0.247206</td>\n",
       "      <td>0.229697</td>\n",
       "    </tr>\n",
       "  </tbody>\n",
       "</table>\n",
       "</div>"
      ],
      "text/plain": [
       "   C=10**n  train BER  validation BER  test BER\n",
       "0       -4   0.267790        0.250598  0.235176\n",
       "1       -3   0.292814        0.257382  0.241341\n",
       "2       -2   0.285632        0.247206  0.228327\n",
       "3       -1   0.289052        0.251276  0.236546\n",
       "4        0   0.259440        0.239064  0.237280\n",
       "5        1   0.246928        0.233637  0.237280\n",
       "6        2   0.188873        0.212606  0.225685\n",
       "7        3   0.270242        0.235672  0.217368\n",
       "8        4   0.279476        0.247206  0.229697"
      ]
     },
     "execution_count": 6,
     "metadata": {},
     "output_type": "execute_result"
    }
   ],
   "source": [
    "power=range(-4,5)\n",
    "c=[]\n",
    "train_a = []\n",
    "valid_a = []\n",
    "test_a = []\n",
    "train_BER = []\n",
    "valid_BER = []\n",
    "test_BER = []\n",
    "\n",
    "for n in power:\n",
    "    model(10**n)\n",
    "    c.append(n)\n",
    "    \n",
    "import pandas as pd\n",
    "import matplotlib.pyplot as plt \n",
    "\n",
    "df = pd.DataFrame(list(zip(c, train_BER, valid_BER, test_BER)),\n",
    " columns =['C=10**n', 'train BER', 'validation BER', 'test BER'])\n",
    "df"
   ]
  },
  {
   "cell_type": "code",
   "execution_count": 7,
   "metadata": {},
   "outputs": [
    {
     "data": {
      "image/png": "[encoded data removed]",
      "text/plain": [
       "<Figure size 432x288 with 1 Axes>"
      ]
     },
     "metadata": {
      "needs_background": "light"
     },
     "output_type": "display_data"
    }
   ],
   "source": [
    "ax = plt.gca()\n",
    "df.plot(kind='line',x='C=10**n',y='train BER', ax=ax)\n",
    "df.plot(kind='line',x='C=10**n',y='validation BER', color='pink', ax=ax)\n",
    "df.plot(kind='line',x='C=10**n',y='test BER', color='green', ax=ax)\n",
    "plt.show()"
   ]
  },
  {
   "cell_type": "markdown",
   "metadata": {},
   "source": [
    "#### Based on these values, which classifier would you select (in terms of generalization performance) and why?"
   ]
  },
  {
   "cell_type": "code",
   "execution_count": 8,
   "metadata": {},
   "outputs": [
    {
     "name": "stdout",
     "output_type": "stream",
     "text": [
      "I will choose the classifier with C equals 10 to the power of 2, because it has the lowest BER on the validation set.\n"
     ]
    }
   ],
   "source": [
    "print('I will choose the classifier with C equals 10 to the power of ' +\n",
    "      str(int(df[df['validation BER']==min(df['validation BER'])]['C=10**n'])) +\n",
    "      ', because it has the lowest BER on the validation set.')"
   ]
  },
  {
   "cell_type": "markdown",
   "metadata": {},
   "source": [
    "## Question 6"
   ]
  },
  {
   "cell_type": "markdown",
   "metadata": {},
   "source": [
    "#### Assigning larger weights to (e.g.) positive samples would encourage the logistic regressor to optimize for the True Positive Rate. Using the above code, compute the Fβ score (on the test set) of your (unweighted) classifier, for β = 1 and β = 10.  "
   ]
  },
  {
   "cell_type": "code",
   "execution_count": 9,
   "metadata": {},
   "outputs": [
    {
     "name": "stdout",
     "output_type": "stream",
     "text": [
      "F1 =0.125\n",
      "F10 =0.07203994293865905\n"
     ]
    }
   ],
   "source": [
    "weights = [1.0] * len(y_train)\n",
    "F1s = []\n",
    "F10s = []\n",
    "def model_weight(weights):\n",
    "    mod = linear_model.LogisticRegression(C=1, solver='lbfgs')\n",
    "    mod.fit(X_train, y_train, sample_weight=weights)\n",
    "    train_predictions = mod.predict(X_train)\n",
    "    test_predictions = mod.predict(X_test)\n",
    "    train_correct = train_predictions == y_train\n",
    "    test_correct = test_predictions == y_test\n",
    "    \n",
    "    TP=sum([(a and b) for (a,b) in zip(test_predictions, y_test)])\n",
    "    FP=sum([(a and not b) for (a,b) in zip(test_predictions, y_test)])\n",
    "    TN=sum([(not a and not b) for (a,b) in zip(test_predictions, y_test)])\n",
    "    FN=sum([(not a and b) for (a,b) in zip(test_predictions, y_test)])\n",
    "    precision = TP / (TP + FP)\n",
    "    recall = TP / (TP + FN)\n",
    "    β = 1\n",
    "    F1 = (1 + β**2)*precision*recall/(β**2*precision+recall)\n",
    "    F1s.append(F1)\n",
    "    β = 10\n",
    "    F10 = (1 + β**2)*precision*recall/(β**2*precision+recall)\n",
    "    F10s.append(F10)\n",
    "    \n",
    "model_weight(weights)\n",
    "print('F1 =' + str(F1s[0]))\n",
    "print('F10 =' + str(F10s[0]))"
   ]
  },
  {
   "cell_type": "markdown",
   "metadata": {},
   "source": [
    "#### Following this, identify weight vectors that yield better performance (compared to the unweighted vector) in terms of the F1 and F10 scores"
   ]
  },
  {
   "cell_type": "code",
   "execution_count": 10,
   "metadata": {},
   "outputs": [
    {
     "data": {
      "text/html": [
       "<div>\n",
       "<style scoped>\n",
       "    .dataframe tbody tr th:only-of-type {\n",
       "        vertical-align: middle;\n",
       "    }\n",
       "\n",
       "    .dataframe tbody tr th {\n",
       "        vertical-align: top;\n",
       "    }\n",
       "\n",
       "    .dataframe thead th {\n",
       "        text-align: right;\n",
       "    }\n",
       "</style>\n",
       "<table border=\"1\" class=\"dataframe\">\n",
       "  <thead>\n",
       "    <tr style=\"text-align: right;\">\n",
       "      <th></th>\n",
       "      <th>weight vector</th>\n",
       "      <th>F1</th>\n",
       "      <th>F10</th>\n",
       "    </tr>\n",
       "  </thead>\n",
       "  <tbody>\n",
       "    <tr>\n",
       "      <td>0</td>\n",
       "      <td>1</td>\n",
       "      <td>0.125000</td>\n",
       "      <td>0.072040</td>\n",
       "    </tr>\n",
       "    <tr>\n",
       "      <td>1</td>\n",
       "      <td>2</td>\n",
       "      <td>NaN</td>\n",
       "      <td>NaN</td>\n",
       "    </tr>\n",
       "    <tr>\n",
       "      <td>2</td>\n",
       "      <td>3</td>\n",
       "      <td>0.222222</td>\n",
       "      <td>0.143875</td>\n",
       "    </tr>\n",
       "    <tr>\n",
       "      <td>3</td>\n",
       "      <td>4</td>\n",
       "      <td>0.222222</td>\n",
       "      <td>0.143875</td>\n",
       "    </tr>\n",
       "    <tr>\n",
       "      <td>4</td>\n",
       "      <td>5</td>\n",
       "      <td>0.222222</td>\n",
       "      <td>0.143875</td>\n",
       "    </tr>\n",
       "    <tr>\n",
       "      <td>5</td>\n",
       "      <td>6</td>\n",
       "      <td>0.216216</td>\n",
       "      <td>0.143823</td>\n",
       "    </tr>\n",
       "    <tr>\n",
       "      <td>6</td>\n",
       "      <td>7</td>\n",
       "      <td>0.205128</td>\n",
       "      <td>0.143721</td>\n",
       "    </tr>\n",
       "    <tr>\n",
       "      <td>7</td>\n",
       "      <td>8</td>\n",
       "      <td>0.166667</td>\n",
       "      <td>0.143262</td>\n",
       "    </tr>\n",
       "    <tr>\n",
       "      <td>8</td>\n",
       "      <td>9</td>\n",
       "      <td>0.153846</td>\n",
       "      <td>0.143059</td>\n",
       "    </tr>\n",
       "    <tr>\n",
       "      <td>9</td>\n",
       "      <td>10</td>\n",
       "      <td>0.153846</td>\n",
       "      <td>0.143059</td>\n",
       "    </tr>\n",
       "  </tbody>\n",
       "</table>\n",
       "</div>"
      ],
      "text/plain": [
       "   weight vector        F1       F10\n",
       "0              1  0.125000  0.072040\n",
       "1              2       NaN       NaN\n",
       "2              3  0.222222  0.143875\n",
       "3              4  0.222222  0.143875\n",
       "4              5  0.222222  0.143875\n",
       "5              6  0.216216  0.143823\n",
       "6              7  0.205128  0.143721\n",
       "7              8  0.166667  0.143262\n",
       "8              9  0.153846  0.143059\n",
       "9             10  0.153846  0.143059"
      ]
     },
     "execution_count": 10,
     "metadata": {},
     "output_type": "execute_result"
    }
   ],
   "source": [
    "# including the unweighted vector as 1\n",
    "weightvector=[]\n",
    "F1s = []\n",
    "F10s = []\n",
    "for w in range(1,50):\n",
    "    weights =[]\n",
    "    weightvector.append(w)\n",
    "    for i in range(len(y_train)):\n",
    "        if y_train[i] == True:\n",
    "            weights.append(w)\n",
    "        else:\n",
    "            weights.append(1)\n",
    "    model_weight(weights)\n",
    "    \n",
    "df = pd.DataFrame(list(zip(weightvector, F1s, F10s)), columns =['weight vector', 'F1', 'F10'])\n",
    "df.head(10)"
   ]
  },
  {
   "cell_type": "code",
   "execution_count": 11,
   "metadata": {},
   "outputs": [
    {
     "data": {
      "image/png": "[encoded data removed]",
      "text/plain": [
       "<Figure size 432x288 with 1 Axes>"
      ]
     },
     "metadata": {
      "needs_background": "light"
     },
     "output_type": "display_data"
    }
   ],
   "source": [
    "ax = plt.gca()\n",
    "df.plot(kind='line',x='weight vector',y='F1', color='blue', ax=ax)\n",
    "df.plot(kind='line',x='weight vector',y='F10', color='pink', ax=ax)\n",
    "plt.show()"
   ]
  },
  {
   "cell_type": "code",
   "execution_count": 12,
   "metadata": {},
   "outputs": [
    {
     "name": "stdout",
     "output_type": "stream",
     "text": [
      "In terms of F1 I will choose any weight vector among [3, 4, 5], because they have the highest scores compared to the unweighted vector.\n",
      "In terms of F10 I will choose weight vector of 30, because it has the highest score compared to the unweighted vector.\n"
     ]
    }
   ],
   "source": [
    "print('In terms of F1 I will choose any weight vector among ' +\n",
    "      str(df[df['F1']==max(df['F1'])]['weight vector'].values.tolist()) +\n",
    "      ', because they have the highest scores compared to the unweighted vector.')\n",
    "\n",
    "print('In terms of F10 I will choose weight vector of ' +\n",
    "      str(int(df[df['F10']==max(df['F10'])]['weight vector'])) +\n",
    "      ', because it has the highest score compared to the unweighted vector.')"
   ]
  },
  {
   "cell_type": "markdown",
   "metadata": {},
   "source": [
    "## Question 7"
   ]
  },
  {
   "cell_type": "markdown",
   "metadata": {},
   "source": [
    "#### Following the stub code, compute the PCA basis on the training set. Report the first PCA component (i.e., pca.components [0]) "
   ]
  },
  {
   "cell_type": "code",
   "execution_count": 13,
   "metadata": {},
   "outputs": [
    {
     "name": "stdout",
     "output_type": "stream",
     "text": [
      "[-4.55811241e-19  4.01127811e-08  1.76042485e-07  1.45960669e-06\n",
      "  6.33467868e-06  3.20557945e-03 -7.06732054e-07  1.94634213e-06\n",
      "  6.47000975e-06 -9.86560943e-07  3.09672890e-08  3.57189835e-07\n",
      "  1.63725408e-06 -6.57758514e-06  1.94589865e-06 -5.73264411e-03\n",
      "  1.49178059e-06  7.25992395e-06  1.78290014e-06  3.82533477e-07\n",
      "  6.14356085e-05 -1.54660418e-05  2.80898732e-07  3.24422266e-07\n",
      "  9.13111605e-07  9.15195672e-07  1.33860631e-06 -5.63070288e-05\n",
      "  4.24597614e-05  4.12080691e-06 -1.61872404e-06  3.73154983e-07\n",
      " -8.11596788e-04  4.91204455e-06 -1.89050851e-06  2.65155464e-07\n",
      " -9.31764129e-07  8.04281055e-03 -5.18865577e-07  2.15638026e-07\n",
      "  2.91536795e-06 -1.25495559e-06  1.23500250e-07  1.16310756e-04\n",
      "  5.48720317e-05 -3.34153304e-07  4.69295093e-06 -4.67608745e-04\n",
      "  3.20997749e-07  2.65641432e-07  5.76673194e-06 -9.76217673e-07\n",
      " -2.20474062e-06 -4.84867270e-06  4.23946159e-05  9.99945575e-01\n",
      "  2.21896631e-07  1.19042824e-06 -2.84304704e-07 -2.08165424e-06\n",
      " -1.22927206e-04 -8.82690389e-06 -3.19169948e-04  6.32035086e-06\n",
      " -8.00682672e-06]\n"
     ]
    }
   ],
   "source": [
    "from sklearn.decomposition import PCA\n",
    "pca = PCA()\n",
    "pca.fit(X_train)\n",
    "print(pca.components_[0])"
   ]
  },
  {
   "cell_type": "markdown",
   "metadata": {},
   "source": [
    "## Question 8"
   ]
  },
  {
   "cell_type": "markdown",
   "metadata": {},
   "source": [
    "#### Next we’ll train a model using a low-dimensional feature vector. By representing the data in the above basis, i.e.:\n",
    "#### Xpca_train = numpy.matmul(Xtrain, pca.components_.T)\n",
    "#### Xpca_valid = numpy.matmul(Xvalid, pca.components_.T)\n",
    "#### Xpca_test = numpy.matmul(Xtest, pca.components_.T)"
   ]
  },
  {
   "cell_type": "code",
   "execution_count": 14,
   "metadata": {},
   "outputs": [],
   "source": [
    "import numpy\n",
    "Xpca_train = numpy.matmul(X_train, pca.components_.T)\n",
    "Xpca_valid = numpy.matmul(X_valid, pca.components_.T)\n",
    "Xpca_test = numpy.matmul(X_test, pca.components_.T)"
   ]
  },
  {
   "cell_type": "markdown",
   "metadata": {},
   "source": [
    "#### compute the validation and test BER of a model that uses just the first N components (i.e., dimensions) for N = 5, 10, . . . , 25, 30. Again use class weight=’balanced’ and C = 1.0 (2 marks)."
   ]
  },
  {
   "cell_type": "code",
   "execution_count": 15,
   "metadata": {},
   "outputs": [],
   "source": [
    "N=range(5,35,5)\n",
    "number=[]\n",
    "valid_BER=[]\n",
    "test_BER=[]\n",
    "for n in N:\n",
    "    reduced_train = [x[:n] for x in Xpca_train]\n",
    "    reduced_valid = [x[:n] for x in Xpca_valid]\n",
    "    reduced_test = [x[:n] for x in Xpca_test]   \n",
    "    number.append(n)\n",
    "        \n",
    "    mod = linear_model.LogisticRegression(C=1, class_weight='balanced')\n",
    "    mod.fit(reduced_train,y_train)\n",
    "    predictions_valid=mod.predict(reduced_valid) \n",
    "    correct_valid = predictions_valid == y_valid\n",
    "    valid_BER.append(BER(predictions_valid, y_valid))\n",
    " \n",
    "    predictions_test=mod.predict(reduced_test)  \n",
    "    correct_test = predictions_test == y_test\n",
    "    test_BER.append(BER(predictions_test, y_test))"
   ]
  },
  {
   "cell_type": "code",
   "execution_count": 16,
   "metadata": {},
   "outputs": [
    {
     "data": {
      "text/html": [
       "<div>\n",
       "<style scoped>\n",
       "    .dataframe tbody tr th:only-of-type {\n",
       "        vertical-align: middle;\n",
       "    }\n",
       "\n",
       "    .dataframe tbody tr th {\n",
       "        vertical-align: top;\n",
       "    }\n",
       "\n",
       "    .dataframe thead th {\n",
       "        text-align: right;\n",
       "    }\n",
       "</style>\n",
       "<table border=\"1\" class=\"dataframe\">\n",
       "  <thead>\n",
       "    <tr style=\"text-align: right;\">\n",
       "      <th></th>\n",
       "      <th>fist n components</th>\n",
       "      <th>valid BER</th>\n",
       "      <th>test BER</th>\n",
       "    </tr>\n",
       "  </thead>\n",
       "  <tbody>\n",
       "    <tr>\n",
       "      <td>0</td>\n",
       "      <td>5</td>\n",
       "      <td>0.344834</td>\n",
       "      <td>0.352935</td>\n",
       "    </tr>\n",
       "    <tr>\n",
       "      <td>1</td>\n",
       "      <td>10</td>\n",
       "      <td>0.228080</td>\n",
       "      <td>0.312720</td>\n",
       "    </tr>\n",
       "    <tr>\n",
       "      <td>2</td>\n",
       "      <td>15</td>\n",
       "      <td>0.212477</td>\n",
       "      <td>0.279795</td>\n",
       "    </tr>\n",
       "    <tr>\n",
       "      <td>3</td>\n",
       "      <td>20</td>\n",
       "      <td>0.209214</td>\n",
       "      <td>0.286791</td>\n",
       "    </tr>\n",
       "    <tr>\n",
       "      <td>4</td>\n",
       "      <td>25</td>\n",
       "      <td>0.231537</td>\n",
       "      <td>0.228327</td>\n",
       "    </tr>\n",
       "    <tr>\n",
       "      <td>5</td>\n",
       "      <td>30</td>\n",
       "      <td>0.233572</td>\n",
       "      <td>0.239286</td>\n",
       "    </tr>\n",
       "  </tbody>\n",
       "</table>\n",
       "</div>"
      ],
      "text/plain": [
       "   fist n components  valid BER  test BER\n",
       "0                  5   0.344834  0.352935\n",
       "1                 10   0.228080  0.312720\n",
       "2                 15   0.212477  0.279795\n",
       "3                 20   0.209214  0.286791\n",
       "4                 25   0.231537  0.228327\n",
       "5                 30   0.233572  0.239286"
      ]
     },
     "execution_count": 16,
     "metadata": {},
     "output_type": "execute_result"
    }
   ],
   "source": [
    "df = pd.DataFrame(list(zip(number, valid_BER, test_BER)),columns =['fist n components', 'valid BER', 'test BER'])\n",
    "df"
   ]
  },
  {
   "cell_type": "code",
   "execution_count": 17,
   "metadata": {},
   "outputs": [
    {
     "data": {
      "image/png": "[encoded data removed]",
      "text/plain": [
       "<Figure size 432x288 with 1 Axes>"
      ]
     },
     "metadata": {
      "needs_background": "light"
     },
     "output_type": "display_data"
    }
   ],
   "source": [
    "ax = plt.gca()\n",
    "df.plot(kind='line',x='fist n components',y='valid BER', color='pink', ax=ax)\n",
    "df.plot(kind='line',x='fist n components',y='test BER', color='green', ax=ax)\n",
    "plt.show()"
   ]
  },
  {
   "cell_type": "code",
   "execution_count": 18,
   "metadata": {},
   "outputs": [
    {
     "name": "stdout",
     "output_type": "stream",
     "text": [
      "A model that uses just the first 20 components will be the best as it yields the lowest BER on the validation set.\n"
     ]
    }
   ],
   "source": [
    "print('A model that uses just the first '+\n",
    "      str(int(df[df['valid BER']==min(df['valid BER'])]['fist n components']))+\n",
    "      ' components will be the best as it yields the lowest BER on the validation set.')"
   ]
  }
 ],
 "metadata": {
  "kernelspec": {
   "display_name": "Python 3",
   "language": "python",
   "name": "python3"
  },
  "language_info": {
   "codemirror_mode": {
    "name": "ipython",
    "version": 3
   },
   "file_extension": ".py",
   "mimetype": "text/x-python",
   "name": "python",
   "nbconvert_exporter": "python",
   "pygments_lexer": "ipython3",
   "version": "3.6.8"
  }
 },
 "nbformat": 4,
 "nbformat_minor": 4
}
