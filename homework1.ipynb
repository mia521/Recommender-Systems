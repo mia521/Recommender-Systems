{
 "cells": [
  {
   "cell_type": "markdown",
   "metadata": {},
   "source": [
    "# Homework 1"
   ]
  },
  {
   "cell_type": "code",
   "execution_count": 1,
   "metadata": {},
   "outputs": [],
   "source": [
    "import gzip\n",
    "import matplotlib.pyplot as plt\n",
    "from sklearn.metrics import mean_squared_error\n",
    "import numpy as np"
   ]
  },
  {
   "cell_type": "markdown",
   "metadata": {},
   "source": [
    "## Question 1"
   ]
  },
  {
   "cell_type": "code",
   "execution_count": 2,
   "metadata": {},
   "outputs": [],
   "source": [
    "path = \"amazon_reviews_us_Gift_Card_v1_00.tsv.gz\"\n",
    "f = gzip.open(path, 'rt', encoding=\"utf8\")\n",
    "header = f.readline().strip().split('\\t')\n",
    "\n",
    "dataset = []\n",
    "for line in f:\n",
    "    line = line.split('\\t')\n",
    "    d = dict(zip(header, line))\n",
    "    d['star_rating'] = int(d['star_rating'])\n",
    "    if d['verified_purchase'] == 'Y':\n",
    "        d['verified_purchase'] = True\n",
    "    else:\n",
    "        d['verified_purchase'] = False\n",
    "\n",
    "    d2 = {}\n",
    "    for field in ['star_rating','review_body', 'verified_purchase']:\n",
    "        d2[field] = d[field]\n",
    "    dataset.append(d2)\n",
    "    \n",
    "ratingCounts = {1:0, 2:0, 3:0, 4:0, 5:0}\n",
    "for i in dataset:\n",
    "    ratingCounts[i['star_rating']] += 1"
   ]
  },
  {
   "cell_type": "code",
   "execution_count": 3,
   "metadata": {},
   "outputs": [
    {
     "data": {
      "image/png": "[encoded data removed]",
      "text/plain": [
       "<Figure size 432x288 with 1 Axes>"
      ]
     },
     "metadata": {
      "needs_background": "light"
     },
     "output_type": "display_data"
    },
    {
     "name": "stdout",
     "output_type": "stream",
     "text": [
      "5-star rating: 129709\n",
      "4-star rating: 9859\n",
      "3-star rating: 3156\n",
      "2-star rating: 1569\n",
      "1-star rating: 4793\n"
     ]
    }
   ],
   "source": [
    "plt.bar(list(ratingCounts.keys()), list(ratingCounts.values()), color='orange')\n",
    "plt.title(\"Distribution of Ratings\")\n",
    "plt.xlabel(\"Rating\")\n",
    "plt.ylabel(\"Number\")\n",
    "plt.title(\"Distribution of Ratings\")\n",
    "plt.show()\n",
    "\n",
    "print(\"5-star rating: \" + str(ratingCounts[5]))\n",
    "print(\"4-star rating: \" + str(ratingCounts[4]))\n",
    "print(\"3-star rating: \" + str(ratingCounts[3]))\n",
    "print(\"2-star rating: \" + str(ratingCounts[2]))\n",
    "print(\"1-star rating: \" + str(ratingCounts[1]))"
   ]
  },
  {
   "cell_type": "markdown",
   "metadata": {},
   "source": [
    "## Question 3   "
   ]
  },
  {
   "cell_type": "code",
   "execution_count": 4,
   "metadata": {},
   "outputs": [
    {
     "name": "stdout",
     "output_type": "stream",
     "text": [
      "theta 0: 4.844618169670858\n",
      "theta 1: 0.050414826490218397\n",
      "theta 2: -0.001246598946382356\n"
     ]
    }
   ],
   "source": [
    "def feature(datum):\n",
    "    return[1,datum['verified_purchase'],len(datum['review_body'])]\n",
    "\n",
    "X = [feature(d) for d in dataset]\n",
    "y = [d['star_rating'] for d in dataset]\n",
    "theta,residuals,rank,s = np.linalg.lstsq(X,y,rcond=None)\n",
    "print('theta 0:', theta[0])\n",
    "print('theta 1:', theta[1])\n",
    "print('theta 2:', theta[2])"
   ]
  },
  {
   "cell_type": "markdown",
   "metadata": {},
   "source": [
    "### Briefly describe your interpretation of these values, i.e., what do θ0, θ1, and θ2 represent? Explain these in terms of the features and labels, e.g. if the coefficient of \"review length\" is negative, what would that say about positive versus negative reviews?\n",
    "\n",
    "\n",
    "\n",
    "* θ0, θ1 and θ2 are coefficients of the straight line that best fits the given data points. \n",
    "* θ0 is the intercept term, representing the rating of an univerified purchase with no review (+4.845); θ1 is the coefficient of ‘verified purchase,’ representing how much rating changes when purchase become verified (+0.050); θ3 is the coefficient of ‘review length,’ representing how much rating changes when review length increases by a unit (-0.001). \n",
    "* A positive θ1 means verified purchase correlates to a lower rating while a negative θ2 means longer reviews correlates to a lower rating."
   ]
  },
  {
   "cell_type": "markdown",
   "metadata": {},
   "source": [
    "## Question 4"
   ]
  },
  {
   "cell_type": "code",
   "execution_count": 5,
   "metadata": {},
   "outputs": [
    {
     "name": "stdout",
     "output_type": "stream",
     "text": [
      "theta 0: 4.577583563321579\n",
      "theta 1: 0.1685242563197587\n"
     ]
    }
   ],
   "source": [
    "def feature(datum):\n",
    "    return[1,datum['verified_purchase']]\n",
    "\n",
    "X = [feature(d) for d in dataset]\n",
    "y = [d['star_rating'] for d in dataset]\n",
    "theta,residuals,rank,s = np.linalg.lstsq(X,y,rcond=None)\n",
    "print('theta 0:', theta[0])\n",
    "print('theta 1:', theta[1])"
   ]
  },
  {
   "cell_type": "markdown",
   "metadata": {},
   "source": [
    "### Provide an explanation as to why these coefficients might vary so significantly (1 mark). You should consider both of the features from Q3 in your explanation.\n",
    "\n",
    "* θ0 changes from 4.84 to 4.57 while θ1 changes from 0.05 to 0.17. These changes mean that rating of an univerified purchase with no review decreases, while rating changes more than before when purchase become verified. \n",
    "* One reason for smaller θ0 might be that the negative \"review length\" term is no longer present to bring down the original value and one reason for bigger θ1 might be that the feature \"verified purchase\" is influencial to star rating on its own, but becomes less influencial when compared to the feature \"review length\". "
   ]
  },
  {
   "cell_type": "markdown",
   "metadata": {},
   "source": [
    "## Question 5  "
   ]
  },
  {
   "cell_type": "code",
   "execution_count": 6,
   "metadata": {},
   "outputs": [
    {
     "name": "stdout",
     "output_type": "stream",
     "text": [
      "MSE on the training set: 0.6557415620285985\n",
      "MSE on test set: 0.971382324163011\n"
     ]
    }
   ],
   "source": [
    "index=int(len(dataset)*0.9)\n",
    "training = dataset[:index]\n",
    "testing = dataset[index:]\n",
    "\n",
    "train_X = [feature(d) for d in training]\n",
    "train_y = [d['star_rating'] for d in training]\n",
    "theta,residuals,rank,s = np.linalg.lstsq(train_X,train_y,rcond=None)\n",
    "print('MSE on the training set:', residuals[0]/len(training))\n",
    "\n",
    "test_X = [feature(d) for d in testing]\n",
    "test_y = [d['star_rating'] for d in testing]\n",
    "MSE = mean_squared_error(test_y, np.dot(test_X, theta))\n",
    "print(\"MSE on test set:\",MSE)"
   ]
  },
  {
   "cell_type": "markdown",
   "metadata": {},
   "source": [
    "## Question 7"
   ]
  },
  {
   "cell_type": "code",
   "execution_count": 7,
   "metadata": {},
   "outputs": [],
   "source": [
    "MSE_training = []\n",
    "MSE_testing = []\n",
    "intervals =  np.linspace(0.05, 0.95, 10)\n",
    "for p in intervals:\n",
    "    index = int(len(dataset)*p)\n",
    "    training = dataset[:index]\n",
    "    testing = dataset[index:]\n",
    "    X = [feature(d) for d in training]\n",
    "    y = [d['star_rating'] for d in training]\n",
    "    theta,residuals,rank,s = np.linalg.lstsq(X,y,rcond=None)\n",
    "    MSE_training.append(residuals/len(training))\n",
    "    \n",
    "    X = [feature(d) for d in testing]\n",
    "    y = [d['star_rating'] for d in testing]\n",
    "    MSE_testing.append(mean_squared_error(y, np.dot(X, theta)))"
   ]
  },
  {
   "cell_type": "code",
   "execution_count": 8,
   "metadata": {},
   "outputs": [
    {
     "data": {
      "image/png": "[encoded data removed]",
      "text/plain": [
       "<Figure size 432x288 with 1 Axes>"
      ]
     },
     "metadata": {
      "needs_background": "light"
     },
     "output_type": "display_data"
    }
   ],
   "source": [
    "plt.plot(intervals, MSE_training, label = 'training')\n",
    "plt.plot(intervals, MSE_testing, label = 'testing')\n",
    "plt.title('MSE of different training set size')\n",
    "plt.xlabel(\"training set size\")\n",
    "plt.xlim(0, 1, 10)\n",
    "plt.ylabel(\"MSE\")\n",
    "plt.legend(loc='best')\n",
    "plt.show()"
   ]
  },
  {
   "cell_type": "markdown",
   "metadata": {},
   "source": [
    "### Does the size of the training set make a significant difference in testing performance? Comment on why it might or might not make a significant difference in this instance.\n",
    "* Yes. Testing performance is the best when training set size is the smallest and testing performance gets worse as training set size increases. The phenomenon is counter-intuitive as testing performance should get better as the size of training set increases because the training set has become more tolerant. \n",
    "* In this instance, the testing error starts to soar when the training set begins to use around the first 85% of the data. This may be the result of a dataset that is drastically different just before and just after the first 85% of the data. Unlike taking a small fraction of the data and let the different parts near the end offset each other, taking the first 85% as training and last 15% as testing results in very different training and testing data that hurt testing performance."
   ]
  },
  {
   "cell_type": "markdown",
   "metadata": {},
   "source": [
    "## Question 8"
   ]
  },
  {
   "cell_type": "code",
   "execution_count": 9,
   "metadata": {},
   "outputs": [
    {
     "name": "stdout",
     "output_type": "stream",
     "text": [
      "classification accuracy 0.5589241397813401\n",
      "proportion of labels that are positive 0.5586558454624724\n",
      "proportion of predictions that are positive: 0.9990609698839628\n"
     ]
    }
   ],
   "source": [
    "from sklearn.linear_model import LogisticRegression\n",
    "logreg = LogisticRegression(solver='liblinear')\n",
    "def feature(datum):\n",
    "    return[1,datum['star_rating'],len(datum['review_body'])]\n",
    "X = [feature(d) for d in dataset]\n",
    "y = [d['verified_purchase'] for d in dataset]\n",
    "index=int(len(dataset)*0.9)\n",
    "X_train, X_test, y_train, y_test = X[:index], X[index:], y[:index], y[index:]\n",
    "\n",
    "logreg.fit(X_train, y_train)\n",
    "prediction=logreg.predict(X_test)\n",
    "print('classification accuracy', sum(prediction==y_test)/len(y_test))\n",
    "print('proportion of labels that are positive', sum(y_test)/len(y_test))\n",
    "print('proportion of predictions that are positive:', sum(prediction)/len(prediction))"
   ]
  },
  {
   "cell_type": "markdown",
   "metadata": {},
   "source": [
    "## Question 9"
   ]
  },
  {
   "cell_type": "code",
   "execution_count": 10,
   "metadata": {},
   "outputs": [],
   "source": [
    "path = \"amazon_reviews_us_Gift_Card_v1_00.tsv.gz\"\n",
    "f = gzip.open(path, 'rt', encoding=\"utf8\")\n",
    "header = f.readline().strip().split('\\t')\n",
    "\n",
    "dataset = []\n",
    "for line in f:\n",
    "    line = line.split('\\t')\n",
    "    d = dict(zip(header, line))\n",
    "    d['star_rating'] = int(d['star_rating'])\n",
    "    if d['verified_purchase'] == 'Y':\n",
    "        d['verified_purchase'] = True\n",
    "    else:\n",
    "        d['verified_purchase'] = False\n",
    "\n",
    "    d2 = {}\n",
    "    for field in ['star_rating','review_body', 'verified_purchase', 'helpful_votes', 'total_votes']:\n",
    "        d2[field] = d[field]\n",
    "    dataset.append(d2)"
   ]
  },
  {
   "cell_type": "code",
   "execution_count": 11,
   "metadata": {},
   "outputs": [
    {
     "name": "stdout",
     "output_type": "stream",
     "text": [
      "classification accuracy 0.5594607284190757\n",
      "proportion of labels that are positive 0.5586558454624724\n",
      "proportion of predictions that are positive: 0.9983902340867932\n"
     ]
    }
   ],
   "source": [
    "def feature(datum):\n",
    "    return[1,datum['star_rating']**0.5,int(datum['helpful_votes']),int(datum['total_votes']),len(datum['review_body'])**0.5]\n",
    "X = [feature(d) for d in dataset]\n",
    "y = [d['verified_purchase'] for d in dataset]\n",
    "index=int(len(dataset)*0.9)\n",
    "X_train, X_test, y_train, y_test = X[:index], X[index:], y[:index], y[index:]\n",
    "\n",
    "logreg.fit(X_train, y_train)\n",
    "prediction=logreg.predict(X_test)\n",
    "print('classification accuracy', sum(prediction==y_test)/len(y_test))\n",
    "print('proportion of labels that are positive', sum(y_test)/len(y_test))\n",
    "print('proportion of predictions that are positive:', sum(prediction)/len(prediction))"
   ]
  },
  {
   "cell_type": "markdown",
   "metadata": {},
   "source": [
    "### Considering same prediction problem as above, can you come up with a more accurate predictor (e.g. using features from the text, timestamp, etc.)? Write down the feature vector you design, and report its train/test accuracy.\n",
    "* The variable that whether a purchase is verified or not is rather random and is not strongly correlated to longer review and higher rating. Therefore I choose to use the square root of review length and the square root of rating to replace original value as new features to reduce their influence. Moreover, a verified purchase may lead to higher vote. So I added two other features, 'helpful_votes' and 'total_votes'. These change altogether lead to a little increase in trai/test accuracy from 0.5589 to 0.5594."
   ]
  }
 ],
 "metadata": {
  "kernelspec": {
   "display_name": "Python 3",
   "language": "python",
   "name": "python3"
  },
  "language_info": {
   "codemirror_mode": {
    "name": "ipython",
    "version": 3
   },
   "file_extension": ".py",
   "mimetype": "text/x-python",
   "name": "python",
   "nbconvert_exporter": "python",
   "pygments_lexer": "ipython3",
   "version": "3.6.8"
  }
 },
 "nbformat": 4,
 "nbformat_minor": 4
}
